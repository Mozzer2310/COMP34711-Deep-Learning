{
 "cells": [
  {
   "cell_type": "code",
   "execution_count": 9,
   "metadata": {},
   "outputs": [],
   "source": [
    "import glob\n",
    "import re\n",
    "import string\n",
    "from nltk.corpus import stopwords\n",
    "from nltk.tokenize import word_tokenize\n",
    "import numpy as np\n",
    "\n",
    "class DistributionalSemantics:\n",
    "\n",
    "    def __init__(self) -> None:\n",
    "        self.vocab = set()\n",
    "        self.reviews = []\n",
    "\n",
    "    def read_data(self, path: str) -> list:\n",
    "        # Find all the .txt files at the path, remove the README from the list\n",
    "        file_paths = glob.glob(path + \"/*.txt\")\n",
    "        file_paths.remove(path + \"/README.txt\")\n",
    "\n",
    "        corpora = []\n",
    "        # Read each file in the list of files\n",
    "        for file_path in file_paths:\n",
    "            f = open(file_path, \"r\")\n",
    "            # Add the data to an array of corpora\n",
    "            corpora.append(f.read())\n",
    "\n",
    "        return corpora\n",
    "\n",
    "    def preprocess(self, corpora):\n",
    "        # process the raw data of each corpus in the list\n",
    "        for corpus in corpora:\n",
    "            self.process_raw(corpus)\n",
    "\n",
    "        # Flatten the processed reviews, to get a single list, convert to a set to get the vocab list\n",
    "        self.vocab = set([item for sublist in self.reviews for item in sublist])\n",
    "\n",
    "    def process_raw(self, raw: str):\n",
    "        # split over the lines (## defines a line and is on each new line as defined by README)\n",
    "        lines = raw.splitlines()\n",
    "        # remove '[t]' tags\n",
    "        lines = [ele for ele in lines if ele != \"[t]\"]\n",
    "\n",
    "        # process each line in the text, add the result to an array\n",
    "        for line in lines:\n",
    "            processed_review = self.process_line(line)\n",
    "            self.reviews.append(processed_review)\n",
    "\n",
    "    def process_line(self, line: str) -> list:\n",
    "        stop_words = set(stopwords.words('english'))\n",
    "        # Add stopwords not in nltk list, these would appear in top 50 list otherwise\n",
    "        stop_words.update([\"ive\", \"im\"])\n",
    "\n",
    "        # Remove any information before '##'\n",
    "        line = re.sub(r'^.*?##', '', line)\n",
    "        # Convert to lower case\n",
    "        line_lwr = line.lower()\n",
    "        # Remove everything except alpha characters, numbers, and whitespace\n",
    "        line_clean = re.sub(r'[^a-z0-9\\s]+', '', line_lwr)\n",
    "        # Tokenize the line\n",
    "        line_tokens = word_tokenize(line_clean)\n",
    "        # Remove stopwords\n",
    "        filtered_line = [w for w in line_tokens if w not in stop_words]\n",
    "        \n",
    "        return filtered_line\n",
    "\n",
    "    def find_target_words(self) -> tuple[list, list]:\n",
    "        # Flatten list of reviews into one list\n",
    "        words = [item for sublist in self.reviews for item in sublist]\n",
    "        vocab_occurance = []\n",
    "        # Count the number of occurances of each word in the vocab\n",
    "        for word in self.vocab:\n",
    "            vocab_occurance.append(words.count(word))\n",
    "\n",
    "        # Convert to numpy arrays\n",
    "        np_vocab_occurnace = np.array(vocab_occurance)\n",
    "        np_vocab = np.array(list(self.vocab))\n",
    "        # get the indices from argsort of the number of occurances in descending order\n",
    "        inds = np_vocab_occurnace.argsort()[::-1]\n",
    "\n",
    "        # Sort the vocab list by the occurances (from indices) get top 50 results\n",
    "        target_words = np_vocab[inds][:50]\n",
    "\n",
    "        # Reverse target words to get psuedo_words\n",
    "        psuedo_words = [word[::-1] for word in target_words]\n",
    "        return target_words, psuedo_words"
   ]
  },
  {
   "cell_type": "code",
   "execution_count": 10,
   "metadata": {},
   "outputs": [
    {
     "name": "stdout",
     "output_type": "stream",
     "text": [
      "6410\n",
      "4261\n",
      "['one' 'use' 'ipod' 'get' 'phone' 'router' 'camera' 'like' 'great'\n",
      " 'player' 'good' 'dont' 'would' 'also' 'battery' 'zen' 'time' 'really'\n",
      " 'well' 'quality' 'easy' 'even' 'computer' 'first' 'diaper' 'used' 'micro'\n",
      " 'product' 'much' 'better' 'software' 'want' 'creative' 'work' 'little'\n",
      " 'need' 'music' 'buy' 'still' 'problem' 'mp3' 'using' 'sound' 'go' 'new'\n",
      " 'features' 'problems' 'best' 'take' 'works']\n",
      "['eno', 'esu', 'dopi', 'teg', 'enohp', 'retuor', 'aremac', 'ekil', 'taerg', 'reyalp', 'doog', 'tnod', 'dluow', 'osla', 'yrettab', 'nez', 'emit', 'yllaer', 'llew', 'ytilauq', 'ysae', 'neve', 'retupmoc', 'tsrif', 'repaid', 'desu', 'orcim', 'tcudorp', 'hcum', 'retteb', 'erawtfos', 'tnaw', 'evitaerc', 'krow', 'elttil', 'deen', 'cisum', 'yub', 'llits', 'melborp', '3pm', 'gnisu', 'dnuos', 'og', 'wen', 'serutaef', 'smelborp', 'tseb', 'ekat', 'skrow']\n"
     ]
    }
   ],
   "source": [
    "def main():\n",
    "    dist_sem = DistributionalSemantics()\n",
    "    corpora = dist_sem.read_data(\"product_reviews\") # specify the directory path to the review files\n",
    "\n",
    "    dist_sem.preprocess(corpora)\n",
    "    print(len(dist_sem.vocab))\n",
    "    print(len(dist_sem.reviews))\n",
    "    target_words, psuedo_words = dist_sem.find_target_words()\n",
    "    print(target_words)\n",
    "    print(psuedo_words)\n",
    "\n",
    "test = main()"
   ]
  }
 ],
 "metadata": {
  "kernelspec": {
   "display_name": "Python 3.10.6 64-bit",
   "language": "python",
   "name": "python3"
  },
  "language_info": {
   "codemirror_mode": {
    "name": "ipython",
    "version": 3
   },
   "file_extension": ".py",
   "mimetype": "text/x-python",
   "name": "python",
   "nbconvert_exporter": "python",
   "pygments_lexer": "ipython3",
   "version": "3.10.6"
  },
  "orig_nbformat": 4,
  "vscode": {
   "interpreter": {
    "hash": "916dbcbb3f70747c44a77c7bcd40155683ae19c65e1c03b4aa3499c5328201f1"
   }
  }
 },
 "nbformat": 4,
 "nbformat_minor": 2
}
