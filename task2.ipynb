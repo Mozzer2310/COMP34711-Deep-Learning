{
  "cells": [
    {
      "cell_type": "markdown",
      "metadata": {
        "colab_type": "text",
        "id": "view-in-github"
      },
      "source": [
        "<a href=\"https://colab.research.google.com/github/Mozzer2310/COMP34711-Deep-Learning/blob/main/task2.ipynb\" target=\"_parent\"><img src=\"https://colab.research.google.com/assets/colab-badge.svg\" alt=\"Open In Colab\"/></a>"
      ]
    },
    {
      "cell_type": "code",
      "execution_count": 1,
      "metadata": {
        "colab": {
          "base_uri": "https://localhost:8080/"
        },
        "id": "7qifa7JfDtPM",
        "outputId": "66ae21f4-a91f-4b3d-9d09-897cfb189fe6"
      },
      "outputs": [
        {
          "name": "stderr",
          "output_type": "stream",
          "text": [
            "2022-12-08 17:48:41.828103: I tensorflow/core/platform/cpu_feature_guard.cc:193] This TensorFlow binary is optimized with oneAPI Deep Neural Network Library (oneDNN) to use the following CPU instructions in performance-critical operations:  AVX2 FMA\n",
            "To enable them in other operations, rebuild TensorFlow with the appropriate compiler flags.\n",
            "2022-12-08 17:48:42.323026: W tensorflow/compiler/xla/stream_executor/platform/default/dso_loader.cc:64] Could not load dynamic library 'libnvinfer.so.7'; dlerror: libnvinfer.so.7: cannot open shared object file: No such file or directory; LD_LIBRARY_PATH: :/usr/local/lib\n",
            "2022-12-08 17:48:42.323077: W tensorflow/compiler/xla/stream_executor/platform/default/dso_loader.cc:64] Could not load dynamic library 'libnvinfer_plugin.so.7'; dlerror: libnvinfer_plugin.so.7: cannot open shared object file: No such file or directory; LD_LIBRARY_PATH: :/usr/local/lib\n",
            "2022-12-08 17:48:42.323081: W tensorflow/compiler/tf2tensorrt/utils/py_utils.cc:38] TF-TRT Warning: Cannot dlopen some TensorRT libraries. If you would like to use Nvidia GPU with TensorRT, please make sure the missing libraries mentioned above are installed properly.\n"
          ]
        }
      ],
      "source": [
        "import glob\n",
        "import random\n",
        "import string\n",
        "from nltk.tokenize import word_tokenize\n",
        "import tensorflow as tf\n",
        "import numpy as np\n",
        "\n",
        "\n",
        "class NeuralNetwork:\n",
        "\n",
        "    def __init__(self) -> None:\n",
        "        self.vocab = set()\n",
        "        self.reviews = []\n",
        "        self.classification = []\n",
        "\n",
        "    def read_data(self, path: str) -> list:\n",
        "        # Find all the .txt files at the path, remove the README from the list\n",
        "        file_paths = glob.glob(path + \"/*.txt\")\n",
        "        file_paths.remove(path + \"/README.txt\")\n",
        "\n",
        "        corpora = []\n",
        "        # Read each file in the list of files\n",
        "        for file_path in file_paths:\n",
        "            f = open(file_path, \"r\")\n",
        "            # Add the data to an array of corpora\n",
        "            corpora.append(f.read())\n",
        "\n",
        "        return corpora\n",
        "\n",
        "    def preprocess(self, corpora: list):\n",
        "        self.reviews = []\n",
        "        self.classification = []\n",
        "        # process the raw data of each corpus in the list\n",
        "        for corpus in corpora:\n",
        "            self.process_raw(corpus)\n",
        "\n",
        "        # Flatten the processed reviews, to get a single list, convert to a set to get the vocab list\n",
        "        self.vocab = set(\n",
        "            [item for sublist in self.reviews for item in sublist.split(\" \")])\n",
        "\n",
        "    def process_raw(self, raw: str):\n",
        "        # split over the lines (## defines a line and is on each new line as defined by README)\n",
        "        lines = raw.splitlines()\n",
        "        # remove '[t]' tags\n",
        "        lines = [ele for ele in lines if ele != \"[t]\"]\n",
        "\n",
        "        # process each line in the text, add the result to an array and add review class to an array\n",
        "        for line in lines:\n",
        "            # Check that the line isn't empty\n",
        "            if len(line) != 0:\n",
        "                # Process the line, get returned processed line and its review info for classifying\n",
        "                processed_review, review_info = self.process_line(line)\n",
        "                # Only consider reviews which can be classified, i.e. have been classified in text file\n",
        "                if len(review_info) != 0:\n",
        "                    # Consider weights of reviews, in the case that a review is part positive and part negative\n",
        "                    # the weights will help when classifying a review if it is 'more' postive than negative, and vice versa\n",
        "                    num_pos = 3 * review_info.count(\"+3\") + 2 * review_info.count(\n",
        "                        \"+2\") + review_info.count(\"+1\") + review_info.count(\"+\")\n",
        "                    num_neg = 3 * review_info.count(\"-3\") + 2 * review_info.count(\n",
        "                        \"-2\") + review_info.count(\"-1\") + review_info.count(\"-\")\n",
        "                    # 1 for postive and 0 for negative review, add to list\n",
        "                    if num_pos > num_neg:\n",
        "                        self.classification.append(1)\n",
        "                        # add the review to an array\n",
        "                        self.reviews.append(processed_review)\n",
        "                    elif num_pos < num_neg:\n",
        "                        self.classification.append(0)\n",
        "                        # add the review to an array\n",
        "                        self.reviews.append(processed_review)\n",
        "\n",
        "    def process_line(self, line: str):\n",
        "        # Get the substring before the ## delimiter, if not present return empty values for error handling\n",
        "        try:\n",
        "            delim_index = line.index(\"##\")\n",
        "        except ValueError:\n",
        "            delim_index = None\n",
        "        if delim_index == None:\n",
        "            return [], \"\"\n",
        "        # sub-string before the delimiter is the information about the class of review\n",
        "        review_info = line[:delim_index]\n",
        "        # sub-string after the delimiter is the review\n",
        "        line = line[delim_index+2:]\n",
        "\n",
        "        # Convert to lower case\n",
        "        line_lwr = line.lower()\n",
        "        # # Remove everything except punctuation\n",
        "        line_clean = line_lwr.translate(\n",
        "            str.maketrans('', '', string.punctuation))\n",
        "        # Tokenize the review and rejoin to remove whitespace\n",
        "        line_tokens = \" \".join(word_tokenize(line_clean))\n",
        "\n",
        "        return line_tokens, review_info\n",
        "\n",
        "    def test(self, train_data: list, train_class: list, test_data: list, test_class: list):\n",
        "        ######### USING ENCODER ######################\n",
        "        train_dataset = tf.data.Dataset.from_tensor_slices(\n",
        "            (train_data, train_class))\n",
        "        test_dataset = tf.data.Dataset.from_tensor_slices(\n",
        "            (test_data, test_class))\n",
        "\n",
        "        BUFFER_SIZE = 10000\n",
        "        BATCH_SIZE = 32\n",
        "        train_dataset = train_dataset.shuffle(BUFFER_SIZE).batch(\n",
        "            BATCH_SIZE).prefetch(tf.data.AUTOTUNE)\n",
        "        test_dataset = test_dataset.batch(\n",
        "            BATCH_SIZE).prefetch(tf.data.AUTOTUNE)\n",
        "\n",
        "        VOCAB_SIZE = 5000\n",
        "        encoder = tf.keras.layers.TextVectorization(\n",
        "            max_tokens=VOCAB_SIZE)\n",
        "        encoder.adapt(train_dataset.map(lambda text, label: text))\n",
        "\n",
        "        model = tf.keras.Sequential([\n",
        "            encoder,\n",
        "            tf.keras.layers.Embedding(\n",
        "                input_dim=len(encoder.get_vocabulary()),\n",
        "                output_dim=32,\n",
        "                # Use masking to handle the variable sequence lengths\n",
        "                mask_zero=True),\n",
        "            tf.keras.layers.Bidirectional(\n",
        "                tf.keras.layers.LSTM(32, recurrent_dropout=0.2)),\n",
        "            # tf.keras.layers.Dense(64, activation='relu'),\n",
        "            tf.keras.layers.Dense(1, activation='relu')\n",
        "        ])\n",
        "\n",
        "        model.compile(loss=tf.keras.losses.BinaryCrossentropy(from_logits=True),\n",
        "                      optimizer=tf.keras.optimizers.Adam(1e-4),\n",
        "                      metrics=['accuracy'])\n",
        "\n",
        "        history = model.fit(\n",
        "            train_dataset,\n",
        "            epochs=10,\n",
        "            batch_size=BATCH_SIZE,\n",
        "            verbose=0)\n",
        "\n",
        "        test_loss, test_acc = model.evaluate(test_dataset, verbose=0)\n",
        "\n",
        "        return test_acc\n",
        "\n",
        "    def nfold_cv(self, n: int = 5):\n",
        "        pos_inds = np.where(np.array(self.classification) == 1)\n",
        "        neg_inds = np.where(np.array(self.classification) == 0)\n",
        "\n",
        "        pos_reviews = list(np.array(self.reviews)[pos_inds])\n",
        "        neg_reviews = list(np.array(self.reviews)[neg_inds])\n",
        "\n",
        "        shuffled_pos = pos_reviews.copy()\n",
        "        shuffled_neg = neg_reviews.copy()\n",
        "        random.shuffle(shuffled_pos)\n",
        "        random.shuffle(shuffled_neg)\n",
        "\n",
        "        groups = {\"test\": [], \"test_class\": [], \"train\": [], \"train_class\": []}\n",
        "        for split in range(n):\n",
        "            lower_pos = (len(shuffled_pos)//n) * split\n",
        "            lower_neg = (len(shuffled_neg)//n) * split\n",
        "            if split == n-1:\n",
        "                test_pos = shuffled_pos[lower_pos:]\n",
        "                test_neg = shuffled_neg[lower_neg:]\n",
        "                train_pos = shuffled_pos[:lower_pos]\n",
        "                train_neg = shuffled_neg[:lower_neg]\n",
        "            else:\n",
        "                upper_pos = (len(shuffled_pos)//n) * (split+1)\n",
        "                upper_neg = (len(shuffled_neg)//n) * (split+1)\n",
        "                test_pos = shuffled_pos[lower_pos:upper_pos]\n",
        "                test_neg = shuffled_neg[lower_neg:upper_neg]\n",
        "                train_pos = shuffled_pos[:lower_pos] + shuffled_pos[upper_pos:]\n",
        "                train_neg = shuffled_neg[:lower_neg] + shuffled_neg[upper_neg:]\n",
        "            groups[\"test\"].append(test_pos + test_neg)\n",
        "            groups[\"test_class\"].append(\n",
        "                [1] * len(test_pos) + [0] * len(test_neg))\n",
        "            groups[\"train\"].append(train_pos + train_neg)\n",
        "            groups[\"train_class\"].append(\n",
        "                [1] * len(train_pos) + [0] * len(train_neg))\n",
        "\n",
        "        # print(groups)\n",
        "        accuracies = []\n",
        "        for fold in range(n):\n",
        "            accuracies.append(self.test(\n",
        "                groups[\"train\"][fold], groups[\"train_class\"][fold], groups[\"test\"][fold], groups[\"test_class\"][fold]))\n",
        "\n",
        "        print(accuracies)\n"
      ]
    },
    {
      "cell_type": "code",
      "execution_count": 2,
      "metadata": {
        "colab": {
          "base_uri": "https://localhost:8080/"
        },
        "id": "k2UMfC-JET62",
        "outputId": "cce9111f-37b6-4fa8-abc7-ceaf9554a295"
      },
      "outputs": [
        {
          "name": "stdout",
          "output_type": "stream",
          "text": [
            "WARNING:tensorflow:From /home/mozzer/.local/lib/python3.10/site-packages/tensorflow/python/autograph/pyct/static_analysis/liveness.py:83: Analyzer.lamba_check (from tensorflow.python.autograph.pyct.static_analysis.liveness) is deprecated and will be removed after 2023-09-23.\n",
            "Instructions for updating:\n",
            "Lambda fuctions will be no more assumed to be used in the statement where they are used, or at least in the same block. https://github.com/tensorflow/tensorflow/issues/56089\n"
          ]
        },
        {
          "name": "stderr",
          "output_type": "stream",
          "text": [
            "2022-12-08 17:48:43.251913: I tensorflow/compiler/xla/stream_executor/cuda/cuda_gpu_executor.cc:981] successful NUMA node read from SysFS had negative value (-1), but there must be at least one NUMA node, so returning NUMA node zero\n",
            "2022-12-08 17:48:43.268285: W tensorflow/compiler/xla/stream_executor/platform/default/dso_loader.cc:64] Could not load dynamic library 'libcudnn.so.8'; dlerror: libcudnn.so.8: cannot open shared object file: No such file or directory; LD_LIBRARY_PATH: :/usr/local/lib\n",
            "2022-12-08 17:48:43.268306: W tensorflow/core/common_runtime/gpu/gpu_device.cc:1934] Cannot dlopen some GPU libraries. Please make sure the missing libraries mentioned above are installed properly if you would like to use GPU. Follow the guide at https://www.tensorflow.org/install/gpu for how to download and setup the required libraries for your platform.\n",
            "Skipping registering GPU devices...\n",
            "2022-12-08 17:48:43.268572: I tensorflow/core/platform/cpu_feature_guard.cc:193] This TensorFlow binary is optimized with oneAPI Deep Neural Network Library (oneDNN) to use the following CPU instructions in performance-critical operations:  AVX2 FMA\n",
            "To enable them in other operations, rebuild TensorFlow with the appropriate compiler flags.\n"
          ]
        },
        {
          "name": "stdout",
          "output_type": "stream",
          "text": [
            "[0.7440191507339478, 0.7153109908103943, 0.6961722373962402, 0.7559808492660522, 0.7156398296356201]\n"
          ]
        }
      ],
      "source": [
        "def main():\n",
        "    neural = NeuralNetwork()\n",
        "    # specify the directory path to the review files\n",
        "    corpora = neural.read_data(\"product_reviews\")\n",
        "\n",
        "    neural.preprocess(corpora)\n",
        "    neural.nfold_cv()\n",
        "\n",
        "\n",
        "test = main()\n"
      ]
    }
  ],
  "metadata": {
    "colab": {
      "authorship_tag": "ABX9TyOCktKHMHORX6BJmdTrZ2yy",
      "include_colab_link": true,
      "mount_file_id": "1XFe9hwn8zEsXgooZ5ES7sHPFC64mvjdq",
      "provenance": []
    },
    "kernelspec": {
      "display_name": "Python 3.10.6 64-bit",
      "language": "python",
      "name": "python3"
    },
    "language_info": {
      "codemirror_mode": {
        "name": "ipython",
        "version": 3
      },
      "file_extension": ".py",
      "mimetype": "text/x-python",
      "name": "python",
      "nbconvert_exporter": "python",
      "pygments_lexer": "ipython3",
      "version": "3.10.6"
    },
    "vscode": {
      "interpreter": {
        "hash": "e7370f93d1d0cde622a1f8e1c04877d8463912d04d973331ad4851f04de6915a"
      }
    }
  },
  "nbformat": 4,
  "nbformat_minor": 0
}
